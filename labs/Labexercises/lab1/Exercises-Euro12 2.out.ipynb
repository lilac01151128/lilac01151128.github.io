{
  "cells": [
    {
      "cell_type": "markdown",
      "metadata": {},
      "source": [
        "# Ex2 - Filtering and Sorting Data\n",
        "\n",
        "This time we are going to pull data directly from the internet.\n",
        "\n",
        "### Step 1. Import the necessary libraries"
      ],
      "id": "73c1b8dd-f4cb-4bc0-a2b7-e6d653d7fcd4"
    },
    {
      "cell_type": "code",
      "execution_count": 1,
      "metadata": {},
      "outputs": [],
      "source": [
        "import pandas as pd\n",
        "import numpy as np"
      ],
      "id": "cell-3"
    },
    {
      "cell_type": "markdown",
      "metadata": {},
      "source": [
        "### Step 2. Import the dataset from this [address](https://raw.githubusercontent.com/guipsamora/pandas_exercises/master/02_Filtering_%26_Sorting/Euro12/Euro_2012_stats_TEAM.csv).\n",
        "\n",
        "### Step 3. Assign it to a variable called euro12."
      ],
      "id": "c5f3b0cd-b18d-49c9-84a9-f107a7f6cd72"
    },
    {
      "cell_type": "code",
      "execution_count": 4,
      "metadata": {},
      "outputs": [
        {
          "output_type": "display_data",
          "metadata": {},
          "data": {
            "text/html": [
              "\n",
              "<p>16 rows × 35 columns</p>\n",
              "</div>"
            ]
          }
        }
      ],
      "source": [
        "euro12 = pd.read_csv('https://raw.githubusercontent.com/guipsamora/pandas_exercises/master/02_Filtering_%26_Sorting/Euro12/Euro_2012_stats_TEAM.csv', sep=',')\n",
        "euro12\n"
      ],
      "id": "cell-6"
    },
    {
      "cell_type": "markdown",
      "metadata": {},
      "source": [
        "### Step 4. Select only the Goal column."
      ],
      "id": "e5b2f154-6dfe-4ab6-809d-4f3b8671e097"
    },
    {
      "cell_type": "code",
      "execution_count": 5,
      "metadata": {},
      "outputs": [
        {
          "output_type": "display_data",
          "metadata": {},
          "data": {
            "text/plain": [
              "0      4\n",
              "1      4\n",
              "2      4\n",
              "3      5\n",
              "4      3\n",
              "5     10\n",
              "6      5\n",
              "7      6\n",
              "8      2\n",
              "9      2\n",
              "10     6\n",
              "11     1\n",
              "12     5\n",
              "13    12\n",
              "14     5\n",
              "15     2\n",
              "Name: Goals, dtype: int64"
            ]
          }
        }
      ],
      "source": [
        "euro12.Goals\n"
      ],
      "id": "cell-8"
    },
    {
      "cell_type": "markdown",
      "metadata": {},
      "source": [
        "### Step 5. How many team participated in the Euro2012?"
      ],
      "id": "5625f21d-3612-4afc-8934-c3f8c4530682"
    },
    {
      "cell_type": "code",
      "execution_count": 6,
      "metadata": {},
      "outputs": [
        {
          "output_type": "display_data",
          "metadata": {},
          "data": {
            "text/plain": [
              "16"
            ]
          }
        }
      ],
      "source": [
        "euro12.shape[0]\n"
      ],
      "id": "cell-10"
    },
    {
      "cell_type": "markdown",
      "metadata": {},
      "source": [
        "### Step 6. What is the number of columns in the dataset?"
      ],
      "id": "3d4efbba-37e4-4130-87cd-8500d861f9d9"
    },
    {
      "cell_type": "code",
      "execution_count": 7,
      "metadata": {},
      "outputs": [
        {
          "output_type": "stream",
          "name": "stdout",
          "text": [
            "<class 'pandas.core.frame.DataFrame'>\n",
            "RangeIndex: 16 entries, 0 to 15\n",
            "Data columns (total 35 columns):\n",
            " #   Column                      Non-Null Count  Dtype  \n",
            "---  ------                      --------------  -----  \n",
            " 0   Team                        16 non-null     object \n",
            " 1   Goals                       16 non-null     int64  \n",
            " 2   Shots on target             16 non-null     int64  \n",
            " 3   Shots off target            16 non-null     int64  \n",
            " 4   Shooting Accuracy           16 non-null     object \n",
            " 5   % Goals-to-shots            16 non-null     object \n",
            " 6   Total shots (inc. Blocked)  16 non-null     int64  \n",
            " 7   Hit Woodwork                16 non-null     int64  \n",
            " 8   Penalty goals               16 non-null     int64  \n",
            " 9   Penalties not scored        16 non-null     int64  \n",
            " 10  Headed goals                16 non-null     int64  \n",
            " 11  Passes                      16 non-null     int64  \n",
            " 12  Passes completed            16 non-null     int64  \n",
            " 13  Passing Accuracy            16 non-null     object \n",
            " 14  Touches                     16 non-null     int64  \n",
            " 15  Crosses                     16 non-null     int64  \n",
            " 16  Dribbles                    16 non-null     int64  \n",
            " 17  Corners Taken               16 non-null     int64  \n",
            " 18  Tackles                     16 non-null     int64  \n",
            " 19  Clearances                  16 non-null     int64  \n",
            " 20  Interceptions               16 non-null     int64  \n",
            " 21  Clearances off line         15 non-null     float64\n",
            " 22  Clean Sheets                16 non-null     int64  \n",
            " 23  Blocks                      16 non-null     int64  \n",
            " 24  Goals conceded              16 non-null     int64  \n",
            " 25  Saves made                  16 non-null     int64  \n",
            " 26  Saves-to-shots ratio        16 non-null     object \n",
            " 27  Fouls Won                   16 non-null     int64  \n",
            " 28  Fouls Conceded              16 non-null     int64  \n",
            " 29  Offsides                    16 non-null     int64  \n",
            " 30  Yellow Cards                16 non-null     int64  \n",
            " 31  Red Cards                   16 non-null     int64  \n",
            " 32  Subs on                     16 non-null     int64  \n",
            " 33  Subs off                    16 non-null     int64  \n",
            " 34  Players Used                16 non-null     int64  \n",
            "dtypes: float64(1), int64(29), object(5)\n",
            "memory usage: 4.5+ KB"
          ]
        }
      ],
      "source": [
        "euro12.info()"
      ],
      "id": "cell-12"
    },
    {
      "cell_type": "markdown",
      "metadata": {},
      "source": [
        "### Step 7. View only the columns Team, Yellow Cards and Red Cards and assign them to a dataframe called discipline"
      ],
      "id": "63c2beeb-b5c4-4626-b300-cee41c8a2d77"
    },
    {
      "cell_type": "code",
      "execution_count": 8,
      "metadata": {},
      "outputs": [
        {
          "output_type": "display_data",
          "metadata": {},
          "data": {
            "text/html": [
              "\n",
              "</div>"
            ]
          }
        }
      ],
      "source": [
        "discipline = euro12[['Team', 'Yellow Cards', 'Red Cards']]\n",
        "discipline\n"
      ],
      "id": "cell-14"
    },
    {
      "cell_type": "markdown",
      "metadata": {},
      "source": [
        "### Step 8. Sort the teams by Red Cards, then to Yellow Cards"
      ],
      "id": "017b9211-d894-4102-ab0b-22dfa49295dc"
    },
    {
      "cell_type": "code",
      "execution_count": 9,
      "metadata": {
        "scrolled": true
      },
      "outputs": [
        {
          "output_type": "display_data",
          "metadata": {},
          "data": {
            "text/html": [
              "\n",
              "</div>"
            ]
          }
        }
      ],
      "source": [
        "# 默认是升序排序，设置ascending = False后变为降序排序。\n",
        "discipline.sort_values(['Red Cards', 'Yellow Cards'], ascending = False)\n"
      ],
      "id": "cell-16"
    },
    {
      "cell_type": "markdown",
      "metadata": {},
      "source": [
        "### Step 9. Calculate the mean Yellow Cards given per Team"
      ],
      "id": "7942dbc9-8916-44a9-b5d5-9eb47e7c8083"
    },
    {
      "cell_type": "code",
      "execution_count": 10,
      "metadata": {},
      "outputs": [
        {
          "output_type": "display_data",
          "metadata": {},
          "data": {
            "text/plain": [
              "7"
            ]
          }
        }
      ],
      "source": [
        "# 使用mean()函数，计算该列的平均值。\n",
        "round(discipline['Yellow Cards'].mean())\n"
      ],
      "id": "cell-18"
    },
    {
      "cell_type": "markdown",
      "metadata": {},
      "source": [
        "### Step 10. Filter teams that scored more than 6 goals"
      ],
      "id": "f8e94d4a-bd65-4253-89c9-672bd2c8d202"
    },
    {
      "cell_type": "code",
      "execution_count": 11,
      "metadata": {},
      "outputs": [
        {
          "output_type": "display_data",
          "metadata": {},
          "data": {
            "text/html": [
              "\n",
              "<p>2 rows × 35 columns</p>\n",
              "</div>"
            ]
          }
        }
      ],
      "source": [
        "# 直接中括号里写条件判断，或者使用query()函数都可以。\n",
        "euro12[euro12.Goals > 6]\n",
        "# 或者\n",
        "euro12.query('Goals > 6')\n"
      ],
      "id": "cell-20"
    },
    {
      "cell_type": "markdown",
      "metadata": {},
      "source": [
        "### Step 11. Select the teams that start with G"
      ],
      "id": "59862135-0551-4ef1-ac8d-a07ef99a8499"
    },
    {
      "cell_type": "code",
      "execution_count": 12,
      "metadata": {},
      "outputs": [
        {
          "output_type": "display_data",
          "metadata": {},
          "data": {
            "text/html": [
              "\n",
              "<p>2 rows × 35 columns</p>\n",
              "</div>"
            ]
          }
        }
      ],
      "source": [
        "# 使用euro12.Team.str.startswith('G')的返回值是布尔类型，这里将所有返回值为true的行筛选出来。\n",
        "euro12[euro12.Team.str.startswith('G')]\n",
        "\n"
      ],
      "id": "cell-22"
    },
    {
      "cell_type": "markdown",
      "metadata": {},
      "source": [
        "### Step 12. Select the first 7 columns"
      ],
      "id": "cbadc3a3-478d-4efe-98a7-f8905bb7961a"
    },
    {
      "cell_type": "code",
      "execution_count": 13,
      "metadata": {},
      "outputs": [
        {
          "output_type": "display_data",
          "metadata": {},
          "data": {
            "text/html": [
              "\n",
              "</div>"
            ]
          }
        }
      ],
      "source": [
        "# use .iloc to slices via the position of the passed integers\n",
        "# 使用.iloc，通过传递整数的位置来进行切片。\n",
        "# 有两个参数，前面的表示选取的行，后面的表示选取的列。\n",
        "# : means all, 0:7 means from 0 to 7\n",
        "# 单独一个：代表选取所有行，0:7代表选取从0到7列。\n",
        "\n",
        "euro12.iloc[: , 0:7]\n"
      ],
      "id": "cell-24"
    },
    {
      "cell_type": "markdown",
      "metadata": {},
      "source": [
        "### Step 13. Select all columns except the last 3."
      ],
      "id": "21b94e9b-44f6-42fa-bd88-05b38ef1af19"
    },
    {
      "cell_type": "code",
      "execution_count": 14,
      "metadata": {},
      "outputs": [
        {
          "output_type": "display_data",
          "metadata": {},
          "data": {
            "text/html": [
              "\n",
              "<p>16 rows × 32 columns</p>\n",
              "</div>"
            ]
          }
        }
      ],
      "source": [
        "# use negative to exclude the last 3 columns\n",
        "# 使用负数来排除掉最后三列。\n",
        "euro12.iloc[: , :-3]\n"
      ],
      "id": "cell-26"
    },
    {
      "cell_type": "markdown",
      "metadata": {},
      "source": [
        "### Step 14. Present only the Shooting Accuracy from England, Italy and Russia"
      ],
      "id": "3ea80742-1312-4bdf-9e82-b71dcf68450e"
    },
    {
      "cell_type": "code",
      "execution_count": 15,
      "metadata": {},
      "outputs": [
        {
          "output_type": "display_data",
          "metadata": {},
          "data": {
            "text/html": [
              "\n",
              "</div>"
            ]
          }
        }
      ],
      "source": [
        "# .loc is another way to slice, using the labels of the columns and indexes\n",
        "# .loc是另一种切片方法，使用的是列或者索引的标签。\n",
        "\n",
        "euro12.loc[euro12.Team.isin(['England', 'Italy', 'Russia']), ['Team','Shooting Accuracy']]\n"
      ],
      "id": "cell-28"
    }
  ],
  "nbformat": 4,
  "nbformat_minor": 5,
  "metadata": {
    "anaconda-cloud": {},
    "kernelspec": {
      "name": "python3",
      "display_name": "Python 3",
      "language": "python"
    },
    "language_info": {
      "name": "python",
      "codemirror_mode": {
        "name": "ipython",
        "version": "3"
      },
      "file_extension": ".py",
      "mimetype": "text/x-python",
      "nbconvert_exporter": "python",
      "pygments_lexer": "ipython3",
      "version": "3.11.9"
    }
  }
}