{
  "cells": [
    {
      "cell_type": "markdown",
      "metadata": {},
      "source": [
        "# Ex1 - Filtering and Sorting Data\n",
        "\n",
        "This time we are going to pull data directly from the internet. Special\n",
        "thanks to: https://github.com/justmarkham for sharing the dataset and\n",
        "materials.\n",
        "\n",
        "### Step 1. Import the necessary libraries"
      ],
      "id": "21fff0d1-5940-44d5-a37d-a6b8451be71a"
    },
    {
      "cell_type": "code",
      "execution_count": 2,
      "metadata": {},
      "outputs": [],
      "source": [
        "import pandas as pd\n",
        "import numpy as np"
      ],
      "id": "cell-3"
    },
    {
      "cell_type": "markdown",
      "metadata": {},
      "source": [
        "### Step 2. Import the dataset from this [address](https://raw.githubusercontent.com/justmarkham/DAT8/master/data/chipotle.tsv).\n",
        "\n",
        "### Step 3. Assign it to a variable called chipo."
      ],
      "id": "1875a124-f040-433d-95e7-728555589989"
    },
    {
      "cell_type": "code",
      "execution_count": 3,
      "metadata": {},
      "outputs": [
        {
          "output_type": "display_data",
          "metadata": {},
          "data": {
            "text/html": [
              "\n",
              "</div>"
            ]
          }
        }
      ],
      "source": [
        "chipo = pd.read_csv('https://raw.githubusercontent.com/justmarkham/DAT8/master/data/chipotle.tsv',sep='\\t')\n",
        "chipo.head()"
      ],
      "id": "cell-6"
    },
    {
      "cell_type": "markdown",
      "metadata": {},
      "source": [
        "### Step 4. How many products cost more than \\$10.00?"
      ],
      "id": "313c8f78-ecb4-4313-a45b-fce584f267c7"
    },
    {
      "cell_type": "code",
      "execution_count": 4,
      "metadata": {},
      "outputs": [
        {
          "output_type": "display_data",
          "metadata": {},
          "data": {
            "text/plain": [
              "12"
            ]
          }
        }
      ],
      "source": [
        "chipo['item_price'] = chipo['item_price'].apply(lambda x:float(x[1:]))\n",
        "\n",
        "chipo_4 = chipo.drop_duplicates(['item_name','quantity'])\n",
        "\n",
        "chipo_4 = chipo_4[chipo_4.quantity == 1]\n",
        "\n",
        "chipo_4[chipo_4.item_price > 10].item_name.nunique()"
      ],
      "id": "cell-8"
    },
    {
      "cell_type": "markdown",
      "metadata": {},
      "source": [
        "### Step 5. What is the price of each item?\n",
        "\n",
        "###### print a data frame with only two columns item_name and item_price"
      ],
      "id": "8dee25c2-e0c5-4f50-9afa-61fe2ce9d255"
    },
    {
      "cell_type": "code",
      "execution_count": 5,
      "metadata": {},
      "outputs": [
        {
          "output_type": "display_data",
          "metadata": {},
          "data": {
            "text/html": [
              "\n",
              "</div>"
            ]
          }
        }
      ],
      "source": [
        "chipo_5 = chipo.drop_duplicates(['item_name'])\n",
        "chipo_5 = chipo_5[chipo_5.quantity == 1]\n",
        "chipo_5[['item_name','item_price']]"
      ],
      "id": "cell-10"
    },
    {
      "cell_type": "markdown",
      "metadata": {},
      "source": [
        "### Step 6. Sort by the name of the item"
      ],
      "id": "90431ca5-0ca3-4634-9955-5844af527c0e"
    },
    {
      "cell_type": "code",
      "execution_count": 6,
      "metadata": {},
      "outputs": [
        {
          "output_type": "display_data",
          "metadata": {},
          "data": {
            "text/html": [
              "\n",
              "</div>"
            ]
          }
        }
      ],
      "source": [
        "chipo_5[['item_name','item_price']].sort_values(by='item_name')"
      ],
      "id": "cell-12"
    },
    {
      "cell_type": "markdown",
      "metadata": {},
      "source": [
        "### Step 7. What was the quantity of the most expensive item ordered?"
      ],
      "id": "bc068548-d171-4153-aced-766143dbedc0"
    },
    {
      "cell_type": "code",
      "execution_count": 7,
      "metadata": {},
      "outputs": [
        {
          "output_type": "display_data",
          "metadata": {},
          "data": {
            "text/html": [
              "\n",
              "</div>"
            ]
          }
        }
      ],
      "source": [
        "chipo_5.sort_values(by='item_name').tail(1)"
      ],
      "id": "cell-14"
    },
    {
      "cell_type": "markdown",
      "metadata": {},
      "source": [
        "### Step 8. How many times was a Veggie Salad Bowl ordered?"
      ],
      "id": "3d2a6af0-9c32-4e9c-9213-27fd6e9b2958"
    },
    {
      "cell_type": "code",
      "execution_count": 8,
      "metadata": {},
      "outputs": [
        {
          "output_type": "display_data",
          "metadata": {},
          "data": {
            "text/plain": [
              "18"
            ]
          }
        }
      ],
      "source": [
        "len(chipo[chipo.item_name == 'Veggie Salad Bowl'])"
      ],
      "id": "cell-16"
    },
    {
      "cell_type": "markdown",
      "metadata": {},
      "source": [
        "### Step 9. How many times did someone order more than one Canned Soda?"
      ],
      "id": "a1ecfebb-23f5-4330-aa24-bccbd02091d5"
    },
    {
      "cell_type": "code",
      "execution_count": 9,
      "metadata": {},
      "outputs": [
        {
          "output_type": "display_data",
          "metadata": {},
          "data": {
            "text/plain": [
              "20"
            ]
          }
        }
      ],
      "source": [
        "len(chipo[(chipo.item_name == 'Canned Soda') & (chipo.quantity > 1)])"
      ],
      "id": "cell-18"
    }
  ],
  "nbformat": 4,
  "nbformat_minor": 5,
  "metadata": {
    "kernelspec": {
      "name": "python3",
      "display_name": "Python 3",
      "language": "python"
    },
    "language_info": {
      "name": "python",
      "codemirror_mode": {
        "name": "ipython",
        "version": "3"
      },
      "file_extension": ".py",
      "mimetype": "text/x-python",
      "nbconvert_exporter": "python",
      "pygments_lexer": "ipython3",
      "version": "3.11.9"
    }
  }
}