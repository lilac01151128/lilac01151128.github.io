{
  "cells": [
    {
      "cell_type": "markdown",
      "metadata": {},
      "source": [
        "# Ex2 - Getting and Knowing your Data\n",
        "\n",
        "This time we are going to pull data directly from the internet. Special\n",
        "thanks to: https://github.com/justmarkham for sharing the dataset and\n",
        "materials.\n",
        "\n",
        "### Step 1. Import the necessary libraries"
      ],
      "id": "a8a40bf8-116c-4407-accf-ae0bea8bd2bc"
    },
    {
      "cell_type": "code",
      "execution_count": 46,
      "metadata": {},
      "outputs": [],
      "source": [
        "import pandas as pd\n",
        "import numpy as np"
      ],
      "id": "cell-3"
    },
    {
      "cell_type": "markdown",
      "metadata": {},
      "source": [
        "### Step 2. Import the dataset from this [address](https://raw.githubusercontent.com/justmarkham/DAT8/master/data/chipotle.tsv).\n",
        "\n",
        "### Step 3. Assign it to a variable called chipo."
      ],
      "id": "ff5aee03-c715-4c3c-9e33-98c580ed9f30"
    },
    {
      "cell_type": "code",
      "execution_count": null,
      "metadata": {},
      "outputs": [],
      "source": [
        "url = 'https://raw.githubusercontent.com/justmarkham/DAT8/master/data/chipotle.tsv'\n",
        "chipo = pd.read_csv(url,sep='\\t')"
      ],
      "id": "cell-6"
    },
    {
      "cell_type": "markdown",
      "metadata": {},
      "source": [
        "### Step 4. See the first 10 entries"
      ],
      "id": "52ddb24b-a29e-4a45-ba34-4d4d0aad39f3"
    },
    {
      "cell_type": "code",
      "execution_count": 52,
      "metadata": {
        "scrolled": false
      },
      "outputs": [
        {
          "output_type": "display_data",
          "metadata": {},
          "data": {
            "text/html": [
              "\n",
              "</div>"
            ]
          }
        }
      ],
      "source": [
        "import pandas as pd\n",
        "url ='https://raw.githubusercontent.com/justmarkham/DAT8/master/data/chipotle.tsv'\n",
        "df = pd.read_csv(url,sep='\\t')\n",
        "df.head(10)"
      ],
      "id": "cell-8"
    },
    {
      "cell_type": "markdown",
      "metadata": {},
      "source": [
        "### Step 5. What is the number of observations in the dataset?"
      ],
      "id": "9f0cc920-ceee-4964-b635-ac2d490e5682"
    },
    {
      "cell_type": "code",
      "execution_count": 53,
      "metadata": {},
      "outputs": [
        {
          "output_type": "stream",
          "name": "stdout",
          "text": [
            "4622"
          ]
        }
      ],
      "source": [
        "# Solution 1\n",
        "row_count = len(df)\n",
        "print(row_count)\n"
      ],
      "id": "cell-10"
    },
    {
      "cell_type": "code",
      "execution_count": 8,
      "metadata": {},
      "outputs": [
        {
          "output_type": "stream",
          "name": "stdout",
          "text": [
            "<class 'pandas.core.frame.DataFrame'>\n",
            "RangeIndex: 4622 entries, 0 to 4621\n",
            "Data columns (total 5 columns):\n",
            " #   Column              Non-Null Count  Dtype \n",
            "---  ------              --------------  ----- \n",
            " 0   order_id            4622 non-null   int64 \n",
            " 1   quantity            4622 non-null   int64 \n",
            " 2   item_name           4622 non-null   object\n",
            " 3   choice_description  3376 non-null   object\n",
            " 4   item_price          4622 non-null   object\n",
            "dtypes: int64(2), object(3)\n",
            "memory usage: 180.7+ KB"
          ]
        }
      ],
      "source": [
        "# Solution 2\n",
        "df.info()\n"
      ],
      "id": "cell-11"
    },
    {
      "cell_type": "markdown",
      "metadata": {},
      "source": [
        "### Step 6. What is the number of columns in the dataset?"
      ],
      "id": "b9e35172-32c6-482d-9beb-45625e155113"
    },
    {
      "cell_type": "code",
      "execution_count": 15,
      "metadata": {},
      "outputs": [
        {
          "output_type": "stream",
          "name": "stdout",
          "text": [
            "5"
          ]
        }
      ],
      "source": [
        "number_of_columns = len(df.columns)\n",
        "print(number_of_columns)"
      ],
      "id": "cell-13"
    },
    {
      "cell_type": "markdown",
      "metadata": {},
      "source": [
        "### Step 7. Print the name of all the columns."
      ],
      "id": "e2605fca-300e-4ae4-b0a9-48027b946866"
    },
    {
      "cell_type": "code",
      "execution_count": 16,
      "metadata": {},
      "outputs": [
        {
          "output_type": "display_data",
          "metadata": {},
          "data": {
            "text/plain": [
              "Index(['order_id', 'quantity', 'item_name', 'choice_description',\n",
              "       'item_price'],\n",
              "      dtype='object')"
            ]
          }
        }
      ],
      "source": [
        "df.columns"
      ],
      "id": "cell-15"
    },
    {
      "cell_type": "markdown",
      "metadata": {},
      "source": [
        "### Step 8. How is the dataset indexed?"
      ],
      "id": "ccb1906c-1526-4301-bdbf-31f1683cdc35"
    },
    {
      "cell_type": "code",
      "execution_count": 17,
      "metadata": {},
      "outputs": [
        {
          "output_type": "display_data",
          "metadata": {},
          "data": {
            "text/plain": [
              "RangeIndex(start=0, stop=4622, step=1)"
            ]
          }
        }
      ],
      "source": [
        "df.index"
      ],
      "id": "cell-17"
    },
    {
      "cell_type": "markdown",
      "metadata": {},
      "source": [
        "### Step 9. Which was the most-ordered item?"
      ],
      "id": "ce265465-973b-4618-96d2-5f999659afdc"
    },
    {
      "cell_type": "code",
      "execution_count": 34,
      "metadata": {},
      "outputs": [
        {
          "output_type": "stream",
          "name": "stdout",
          "text": [
            "              order_id  quantity  \\\n",
            "item_name                          \n",
            "Chicken Bowl    713926       761   \n",
            "\n",
            "                                             choice_description  \\\n",
            "item_name                                                         \n",
            "Chicken Bowl  [Tomatillo-Red Chili Salsa (Hot), [Black Beans...   \n",
            "\n",
            "                                                     item_price  \n",
            "item_name                                                        \n",
            "Chicken Bowl  $16.98 $10.98 $11.25 $8.75 $8.49 $11.25 $8.75 ...  "
          ]
        }
      ],
      "source": [
        "data_sorted = df.groupby([\"item_name\"]).sum().sort_values([\"quantity\"],ascending=False)\n",
        "max_value = data_sorted.head(1)\n",
        "print(max_value)"
      ],
      "id": "cell-19"
    },
    {
      "cell_type": "markdown",
      "metadata": {},
      "source": [
        "### Step 10. For the most-ordered item, how many items were ordered?"
      ],
      "id": "f5545c62-afaf-4ee2-962b-2fea83373ac2"
    },
    {
      "cell_type": "code",
      "execution_count": 35,
      "metadata": {},
      "outputs": [
        {
          "output_type": "stream",
          "name": "stdout",
          "text": [
            "              order_id  quantity  \\\n",
            "item_name                          \n",
            "Chicken Bowl    713926       761   \n",
            "\n",
            "                                             choice_description  \\\n",
            "item_name                                                         \n",
            "Chicken Bowl  [Tomatillo-Red Chili Salsa (Hot), [Black Beans...   \n",
            "\n",
            "                                                     item_price  \n",
            "item_name                                                        \n",
            "Chicken Bowl  $16.98 $10.98 $11.25 $8.75 $8.49 $11.25 $8.75 ...  "
          ]
        }
      ],
      "source": [
        "data_sorted = df.groupby([\"item_name\"]).sum().sort_values([\"quantity\"],ascending=False)\n",
        "max_value = data_sorted.head(1)\n",
        "print(max_value)"
      ],
      "id": "cell-21"
    },
    {
      "cell_type": "markdown",
      "metadata": {},
      "source": [
        "### Step 11. What was the most ordered item in the choice_description column?"
      ],
      "id": "c6c050de-1436-43f4-b93c-c305087fc298"
    },
    {
      "cell_type": "code",
      "execution_count": 37,
      "metadata": {},
      "outputs": [
        {
          "output_type": "stream",
          "name": "stdout",
          "text": [
            "                    order_id  quantity  \\\n",
            "choice_description                       \n",
            "[Diet Coke]           123455       159   \n",
            "\n",
            "                                                            item_name  \\\n",
            "choice_description                                                      \n",
            "[Diet Coke]         Canned SodaCanned SodaCanned Soda6 Pack Soft D...   \n",
            "\n",
            "                                                           item_price  \n",
            "choice_description                                                     \n",
            "[Diet Coke]         $2.18 $1.09 $1.09 $6.49 $2.18 $1.25 $1.09 $6.4...  "
          ]
        }
      ],
      "source": [
        "data_sorted = df.groupby([\"choice_description\"]).sum().sort_values([\"quantity\"],ascending=False)\n",
        "max_value = data_sorted.head(1)\n",
        "print(max_value)"
      ],
      "id": "cell-23"
    },
    {
      "cell_type": "markdown",
      "metadata": {},
      "source": [
        "### Step 12. How many items were orderd in total?"
      ],
      "id": "28a4f58c-3a32-4c6d-b89d-04c86f388cbb"
    },
    {
      "cell_type": "code",
      "execution_count": 39,
      "metadata": {},
      "outputs": [
        {
          "output_type": "stream",
          "name": "stdout",
          "text": [
            "4972"
          ]
        }
      ],
      "source": [
        "total_sum_a = df['quantity'].sum()\n",
        "print(total_sum_a)"
      ],
      "id": "cell-25"
    },
    {
      "cell_type": "markdown",
      "metadata": {},
      "source": [
        "### Step 13. Turn the item price into a float\n",
        "\n",
        "#### Step 13.a. Check the item price type"
      ],
      "id": "fdf5c485-d373-4feb-a85b-b0b789685f84"
    },
    {
      "cell_type": "code",
      "execution_count": 40,
      "metadata": {},
      "outputs": [
        {
          "output_type": "stream",
          "name": "stdout",
          "text": [
            "object"
          ]
        }
      ],
      "source": [
        "type_a = df['item_price'].dtype\n",
        "print(type_a)"
      ],
      "id": "cell-28"
    },
    {
      "cell_type": "markdown",
      "metadata": {},
      "source": [
        "#### Step 13.b. Create a lambda function and change the type of item price"
      ],
      "id": "721bf821-1819-4ef8-ac97-fa9ddee7c3ba"
    },
    {
      "cell_type": "code",
      "execution_count": 47,
      "metadata": {},
      "outputs": [],
      "source": [
        "df['item_price'] = df['item_price'].apply(lambda x:x.replace('$','')).astype(np.float64);\n",
        "# dollarizer = lambda x:float(x[1:-1])\n",
        "# chipo.item_price = chipo.item_price.apply(dollarizer)"
      ],
      "id": "cell-30"
    },
    {
      "cell_type": "markdown",
      "metadata": {},
      "source": [
        "#### Step 13.c. Check the item price type"
      ],
      "id": "efb54627-2e66-47fd-a97b-a0e005236aa5"
    },
    {
      "cell_type": "code",
      "execution_count": 48,
      "metadata": {},
      "outputs": [
        {
          "output_type": "display_data",
          "metadata": {},
          "data": {
            "text/plain": [
              "dtype('float64')"
            ]
          }
        }
      ],
      "source": [
        "df['item_price'].dtypes"
      ],
      "id": "cell-32"
    },
    {
      "cell_type": "markdown",
      "metadata": {},
      "source": [
        "### Step 14. How much was the revenue for the period in the dataset?"
      ],
      "id": "019ff44a-dfc1-4d39-a417-c4102a0286b4"
    },
    {
      "cell_type": "code",
      "execution_count": 49,
      "metadata": {},
      "outputs": [
        {
          "output_type": "display_data",
          "metadata": {},
          "data": {
            "text/plain": [
              "39237.02"
            ]
          }
        }
      ],
      "source": [
        "(df['quantity']*df['item_price']).sum()"
      ],
      "id": "cell-34"
    },
    {
      "cell_type": "markdown",
      "metadata": {},
      "source": [
        "### Step 15. How many orders were made in the period?"
      ],
      "id": "61a3e519-5e3e-4440-a64a-b87189b6d0b2"
    },
    {
      "cell_type": "code",
      "execution_count": 50,
      "metadata": {},
      "outputs": [
        {
          "output_type": "display_data",
          "metadata": {},
          "data": {
            "text/plain": [
              "1834"
            ]
          }
        }
      ],
      "source": [
        "# Solution 1\n",
        " \n",
        "g = df.groupby(['order_id'])\n",
        "g.ngroups"
      ],
      "id": "cell-36"
    },
    {
      "cell_type": "markdown",
      "metadata": {},
      "source": [
        "### Step 16. What is the average revenue amount per order?"
      ],
      "id": "92b88eb2-e314-4ceb-9aa5-cac88aa71f60"
    },
    {
      "cell_type": "code",
      "execution_count": 57,
      "metadata": {},
      "outputs": [],
      "source": [
        "# Solution 1\n",
        " \n",
        "df['revenue'] = df['quantity']*df['item_price']\n",
        "order_grouped = df.groupby(by=['order_id']).sum()\n",
        "order_grouped.mean()['revenue']\n"
      ],
      "id": "cell-38"
    },
    {
      "cell_type": "code",
      "execution_count": 58,
      "metadata": {},
      "outputs": [],
      "source": [
        "# Solution 2\n",
        " \n",
        "df.groupby(by=['order_id']).sum().mean()['revenue']\n",
        "\n"
      ],
      "id": "cell-39"
    },
    {
      "cell_type": "markdown",
      "metadata": {},
      "source": [
        "### Step 17. How many different items are sold?"
      ],
      "id": "89fca068-7803-49b9-92e2-ae17cfa2ff80"
    },
    {
      "cell_type": "code",
      "execution_count": 59,
      "metadata": {},
      "outputs": [
        {
          "output_type": "display_data",
          "metadata": {},
          "data": {
            "text/plain": [
              "50"
            ]
          }
        }
      ],
      "source": [
        "df.item_name.value_counts().count()"
      ],
      "id": "cell-41"
    }
  ],
  "nbformat": 4,
  "nbformat_minor": 5,
  "metadata": {
    "anaconda-cloud": {},
    "kernelspec": {
      "name": "python3",
      "display_name": "Python 3",
      "language": "python"
    },
    "language_info": {
      "name": "python",
      "codemirror_mode": {
        "name": "ipython",
        "version": "3"
      },
      "file_extension": ".py",
      "mimetype": "text/x-python",
      "nbconvert_exporter": "python",
      "pygments_lexer": "ipython3",
      "version": "3.11.9"
    }
  }
}