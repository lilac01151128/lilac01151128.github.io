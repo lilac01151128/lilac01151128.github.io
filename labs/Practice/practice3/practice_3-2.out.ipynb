{
  "cells": [
    {
      "cell_type": "markdown",
      "metadata": {},
      "source": [
        "#"
      ],
      "id": "fc717e7b-c8c3-42ba-b0f4-936b1b7c0266"
    },
    {
      "cell_type": "code",
      "execution_count": 1,
      "metadata": {},
      "outputs": [
        {
          "output_type": "stream",
          "name": "stdout",
          "text": [
            "Requirement already satisfied: requests in c:\\users\\shuos\\anaconda3\\lib\\site-packages (2.32.2)\n",
            "Requirement already satisfied: charset-normalizer<4,>=2 in c:\\users\\shuos\\anaconda3\\lib\\site-packages (from requests) (2.0.4)\n",
            "Requirement already satisfied: idna<4,>=2.5 in c:\\users\\shuos\\anaconda3\\lib\\site-packages (from requests) (3.7)\n",
            "Requirement already satisfied: urllib3<3,>=1.21.1 in c:\\users\\shuos\\anaconda3\\lib\\site-packages (from requests) (2.2.2)\n",
            "Requirement already satisfied: certifi>=2017.4.17 in c:\\users\\shuos\\anaconda3\\lib\\site-packages (from requests) (2024.8.30)\n",
            "Note: you may need to restart the kernel to use updated packages."
          ]
        }
      ],
      "source": [
        "pip install requests"
      ],
      "id": "cell-0"
    },
    {
      "cell_type": "code",
      "execution_count": 2,
      "metadata": {},
      "outputs": [
        {
          "output_type": "stream",
          "name": "stdout",
          "text": [
            "Collecting html5libNote: you may need to restart the kernel to use updated packages.\n",
            "\n",
            "  Downloading html5lib-1.1-py2.py3-none-any.whl.metadata (16 kB)\n",
            "Requirement already satisfied: six>=1.9 in c:\\users\\shuos\\anaconda3\\lib\\site-packages (from html5lib) (1.16.0)\n",
            "Requirement already satisfied: webencodings in c:\\users\\shuos\\anaconda3\\lib\\site-packages (from html5lib) (0.5.1)\n",
            "Downloading html5lib-1.1-py2.py3-none-any.whl (112 kB)\n",
            "   ---------------------------------------- 0.0/112.2 kB ? eta -:--:--\n",
            "   --- ------------------------------------ 10.2/112.2 kB ? eta -:--:--\n",
            "   ------------------------ -------------- 71.7/112.2 kB 975.2 kB/s eta 0:00:01\n",
            "   -------------------------------------- 112.2/112.2 kB 926.7 kB/s eta 0:00:00\n",
            "Installing collected packages: html5lib\n",
            "Successfully installed html5lib-1.1"
          ]
        }
      ],
      "source": [
        "pip install html5lib"
      ],
      "id": "cell-1"
    },
    {
      "cell_type": "code",
      "execution_count": 3,
      "metadata": {},
      "outputs": [
        {
          "output_type": "stream",
          "name": "stdout",
          "text": [
            "Requirement already satisfied: bs4 in c:\\users\\shuos\\anaconda3\\lib\\site-packages (0.0.2)\n",
            "Requirement already satisfied: beautifulsoup4 in c:\\users\\shuos\\anaconda3\\lib\\site-packages (from bs4) (4.12.3)\n",
            "Requirement already satisfied: soupsieve>1.2 in c:\\users\\shuos\\anaconda3\\lib\\site-packages (from beautifulsoup4->bs4) (2.5)\n",
            "Note: you may need to restart the kernel to use updated packages."
          ]
        }
      ],
      "source": [
        "pip install bs4"
      ],
      "id": "cell-2"
    },
    {
      "cell_type": "code",
      "execution_count": 4,
      "metadata": {},
      "outputs": [
        {
          "output_type": "stream",
          "name": "stdout",
          "text": [
            "Requirement already satisfied: pandas in c:\\users\\shuos\\anaconda3\\lib\\site-packages (2.2.2)\n",
            "Requirement already satisfied: numpy>=1.26.0 in c:\\users\\shuos\\anaconda3\\lib\\site-packages (from pandas) (1.26.4)\n",
            "Requirement already satisfied: python-dateutil>=2.8.2 in c:\\users\\shuos\\anaconda3\\lib\\site-packages (from pandas) (2.9.0.post0)\n",
            "Requirement already satisfied: pytz>=2020.1 in c:\\users\\shuos\\anaconda3\\lib\\site-packages (from pandas) (2024.1)\n",
            "Requirement already satisfied: tzdata>=2022.7 in c:\\users\\shuos\\anaconda3\\lib\\site-packages (from pandas) (2023.3)\n",
            "Requirement already satisfied: six>=1.5 in c:\\users\\shuos\\anaconda3\\lib\\site-packages (from python-dateutil>=2.8.2->pandas) (1.16.0)\n",
            "Note: you may need to restart the kernel to use updated packages."
          ]
        }
      ],
      "source": [
        "pip install pandas"
      ],
      "id": "cell-3"
    },
    {
      "cell_type": "code",
      "execution_count": 5,
      "metadata": {},
      "outputs": [],
      "source": [
        "from bs4 import BeautifulSoup\n",
        "import requests\n",
        "import re\n",
        "import pandas as pd"
      ],
      "id": "cell-4"
    },
    {
      "cell_type": "code",
      "execution_count": 6,
      "metadata": {},
      "outputs": [],
      "source": [
        "# Downloading imdb top 250 movie's data\n",
        "url = 'http://www.imdb.com/chart/top'\n",
        "response = requests.get(url)\n",
        "soup = BeautifulSoup(response.text, \"html.parser\")"
      ],
      "id": "cell-5"
    },
    {
      "cell_type": "code",
      "execution_count": 7,
      "metadata": {},
      "outputs": [],
      "source": [
        "movies = soup.select('td.titleColumn')\n",
        "crew = [a.attrs.get('title') for a in soup.select('td.titleColumn a')]\n",
        "ratings = [b.attrs.get('data-value')\n",
        "        for b in soup.select('td.posterColumn span[name=ir]')]"
      ],
      "id": "cell-6"
    },
    {
      "cell_type": "code",
      "execution_count": 8,
      "metadata": {},
      "outputs": [
        {
          "output_type": "stream",
          "name": "stderr",
          "text": [
            "<>:14: SyntaxWarning: invalid escape sequence '\\('\n",
            "<>:14: SyntaxWarning: invalid escape sequence '\\('\n",
            "C:\\Users\\shuos\\AppData\\Local\\Temp\\ipykernel_18892\\3357486278.py:14: SyntaxWarning: invalid escape sequence '\\('\n",
            "  year = re.search('\\((.*?)\\)', movie_string).group(1)"
          ]
        }
      ],
      "source": [
        "# create a empty list for storing\n",
        "# movie information\n",
        "list = []\n",
        "\n",
        "# Iterating over movies to extract\n",
        "# each movie's details\n",
        "for index in range(0, len(movies)):\n",
        "    \n",
        "    # Separating movie into: 'place',\n",
        "    # 'title', 'year'\n",
        "    movie_string = movies[index].get_text()\n",
        "    movie = (' '.join(movie_string.split()).replace('.', ''))\n",
        "    movie_title = movie[len(str(index))+1:-7]\n",
        "    year = re.search('\\((.*?)\\)', movie_string).group(1)\n",
        "    place = movie[:len(str(index))-(len(movie))]\n",
        "    data = {\"place\": place,\n",
        "            \"movie_title\": movie_title,\n",
        "            \"rating\": ratings[index],\n",
        "            \"year\": year,\n",
        "            \"star_cast\": crew[index],\n",
        "            }\n",
        "    list.append(data)"
      ],
      "id": "cell-7"
    },
    {
      "cell_type": "code",
      "execution_count": 9,
      "metadata": {},
      "outputs": [],
      "source": [
        "for movie in list:\n",
        "    print(movie['place'], '-', movie['movie_title'], '('+movie['year'] +\n",
        "        ') -', 'Starring:', movie['star_cast'], movie['rating'])"
      ],
      "id": "cell-8"
    },
    {
      "cell_type": "code",
      "execution_count": 10,
      "metadata": {},
      "outputs": [],
      "source": [
        "#saving the list as dataframe\n",
        "#then converting into .csv file\n",
        "df = pd.DataFrame(list)\n",
        "df.to_csv('imdb_top_250_movies.csv',index=False)"
      ],
      "id": "cell-9"
    },
    {
      "cell_type": "code",
      "execution_count": 11,
      "metadata": {},
      "outputs": [
        {
          "output_type": "stream",
          "name": "stderr",
          "text": [
            "<>:32: SyntaxWarning: invalid escape sequence '\\('\n",
            "<>:32: SyntaxWarning: invalid escape sequence '\\('\n",
            "C:\\Users\\shuos\\AppData\\Local\\Temp\\ipykernel_18892\\1921033849.py:32: SyntaxWarning: invalid escape sequence '\\('\n",
            "  year = re.search('\\((.*?)\\)', movie_string).group(1)"
          ]
        }
      ],
      "source": [
        "from bs4 import BeautifulSoup\n",
        "import requests\n",
        "import re\n",
        "import pandas as pd\n",
        "\n",
        "\n",
        "# Downloading imdb top 250 movie's data\n",
        "url = 'http://www.imdb.com/chart/top'\n",
        "response = requests.get(url)\n",
        "soup = BeautifulSoup(response.text, \"html.parser\")\n",
        "movies = soup.select('td.titleColumn')\n",
        "crew = [a.attrs.get('title') for a in soup.select('td.titleColumn a')]\n",
        "ratings = [b.attrs.get('data-value')\n",
        "        for b in soup.select('td.posterColumn span[name=ir]')]\n",
        "\n",
        "\n",
        "\n",
        "\n",
        "# create a empty list for storing\n",
        "# movie information\n",
        "list = []\n",
        "\n",
        "# Iterating over movies to extract\n",
        "# each movie's details\n",
        "for index in range(0, len(movies)):\n",
        "    \n",
        "    # Separating movie into: 'place',\n",
        "    # 'title', 'year'\n",
        "    movie_string = movies[index].get_text()\n",
        "    movie = (' '.join(movie_string.split()).replace('.', ''))\n",
        "    movie_title = movie[len(str(index))+1:-7]\n",
        "    year = re.search('\\((.*?)\\)', movie_string).group(1)\n",
        "    place = movie[:len(str(index))-(len(movie))]\n",
        "    data = {\"place\": place,\n",
        "            \"movie_title\": movie_title,\n",
        "            \"rating\": ratings[index],\n",
        "            \"year\": year,\n",
        "            \"star_cast\": crew[index],\n",
        "            }\n",
        "    list.append(data)\n",
        "\n",
        "# printing movie details with its rating.\n",
        "for movie in list:\n",
        "    print(movie['place'], '-', movie['movie_title'], '('+movie['year'] +\n",
        "        ') -', 'Starring:', movie['star_cast'], movie['rating'])\n",
        "\n",
        "\n",
        "##.......##\n",
        "df = pd.DataFrame(list)\n",
        "df.to_csv('imdb_top_250_movies.csv',index=False)"
      ],
      "id": "cell-10"
    }
  ],
  "nbformat": 4,
  "nbformat_minor": 5,
  "metadata": {
    "kernelspec": {
      "name": "python3",
      "display_name": "base",
      "language": "python"
    },
    "language_info": {
      "name": "python",
      "codemirror_mode": {
        "name": "ipython",
        "version": "3"
      },
      "file_extension": ".py",
      "mimetype": "text/x-python",
      "nbconvert_exporter": "python",
      "pygments_lexer": "ipython3",
      "version": "3.12.4"
    }
  }
}