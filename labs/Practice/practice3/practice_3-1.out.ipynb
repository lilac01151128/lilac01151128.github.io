{
  "cells": [
    {
      "cell_type": "markdown",
      "metadata": {},
      "source": [
        "#"
      ],
      "id": "201ee4ec-3e0e-4d45-bc13-e11a3b716cb3"
    },
    {
      "cell_type": "code",
      "execution_count": 1,
      "metadata": {},
      "outputs": [],
      "source": [
        "import matplotlib.pyplot as plt\n",
        "import pandas as pd\n",
        "import requests\n",
        "from bs4 import BeautifulSoup\n",
        "import textwrap"
      ],
      "id": "cell-0"
    },
    {
      "cell_type": "code",
      "execution_count": 2,
      "metadata": {},
      "outputs": [
        {
          "output_type": "display_data",
          "metadata": {},
          "data": {
            "text/html": [
              "\n",
              "</div>"
            ]
          }
        }
      ],
      "source": [
        "pd.read_csv(\n",
        "    \"https://vincentarelbundock.github.io/Rdatasets/csv/dplyr/storms.csv\", nrows=10\n",
        ")"
      ],
      "id": "cell-1"
    },
    {
      "cell_type": "code",
      "execution_count": 3,
      "metadata": {},
      "outputs": [
        {
          "output_type": "display_data",
          "metadata": {},
          "data": {
            "text/plain": [
              "'<!DOCTYPE html>\\n<html xmlns=\"http://www.w3.org/1999/xhtml\" lang=\"en\" xml:lang=\"en\"><head>\\n\\n<meta charset=\"utf-8\">\\n<meta name=\"generator\" content=\"quarto-1.6.39\">\\n\\n<meta name=\"viewport\" content=\"width=device-width, initial-scale=1.0, user-scalable=yes\">\\n\\n<meta name=\"author\" content=\"Arthur Turrell\">\\n'"
            ]
          }
        }
      ],
      "source": [
        "url = \"http://aeturrell.com/research\"\n",
        "page = requests.get(url)\n",
        "page.text[:300]"
      ],
      "id": "cell-2"
    },
    {
      "cell_type": "code",
      "execution_count": 4,
      "metadata": {},
      "outputs": [
        {
          "output_type": "stream",
          "name": "stdout",
          "text": [
            "TJDdmFjYW5jaWVzJTJDQ09WSUQtMTk=\" data-index=\"1\" data-listing-date-modified-sort=\"NaN\" data-listing-date-sort=\"1651359600000\" data-listing-file-modified-sort=\"1687564711698\" data-listing-reading-time-sort=\"1\" data-listing-word-count-sort=\"182\">\n",
            "         <div class=\"project-content listing-pub-info\">\n",
            "          <p>\n",
            "           Draca, Mirko, Emma Duchini, Roland Rathelot, Arthur Turrell, and Giulia Vattuone. Revolution in Progress? The Rise of Remote Work in the UK.\n",
            "           <i>\n",
            "            Univers"
          ]
        }
      ],
      "source": [
        "soup = BeautifulSoup(page.text, \"html.parser\")\n",
        "print(soup.prettify()[60000:60500])"
      ],
      "id": "cell-3"
    },
    {
      "cell_type": "code",
      "execution_count": 5,
      "metadata": {},
      "outputs": [
        {
          "output_type": "display_data",
          "metadata": {},
          "data": {
            "text/plain": [
              "<p>Blundell, Jack, Emma Duchini, Stefania Simion, and Arthur Turrell. \"Pay transparency and gender equality.\" <i>American Economic Journal: Economic Policy</i> (2024). doi: <a href=\"https://www.aeaweb.org/articles?id=10.1257/pol.20220766&amp;from=f\"><code>10.1257/pol.20220766</code></a></p>"
            ]
          }
        }
      ],
      "source": [
        "# Get all paragraphs\n",
        "all_paras = soup.find_all(\"p\")\n",
        "# Just show one of the paras\n",
        "all_paras[1]"
      ],
      "id": "cell-4"
    },
    {
      "cell_type": "code",
      "execution_count": 6,
      "metadata": {},
      "outputs": [
        {
          "output_type": "display_data",
          "metadata": {},
          "data": {
            "text/plain": [
              "'Blundell, Jack, Emma Duchini, Stefania Simion, and Arthur Turrell. \"Pay transparency and gender equality.\" American Economic Journal: Economic Policy (2024). doi: 10.1257/pol.20220766'"
            ]
          }
        }
      ],
      "source": [
        "all_paras[1].text"
      ],
      "id": "cell-5"
    },
    {
      "cell_type": "code",
      "execution_count": 7,
      "metadata": {},
      "outputs": [
        {
          "output_type": "display_data",
          "metadata": {},
          "data": {
            "text/plain": [
              "['Blundell, Jack, Emma Duchini, Stefania Simion, and Arthur Turrell. \"Pay transparency and gender equality.\" American Economic Journal: Economic Policy (2024). doi: 10.1257/pol.20220766',\n",
              " 'Botta, Federico, Robin Lovelace, Laura Gilbert, and Arthur Turrell. \"Packaging code and data for reproducible research: A case study of journey time statistics.\" Environment and Planning B: Urban Analytics and City Science (2024): 23998083241267331. doi: 10.1177/23998083241267331',\n",
              " 'Kalamara, Eleni, Arthur Turrell, Chris Redl, George Kapetanios, and Sujit Kapadia. \"Making text count: economic forecasting using newspaper text.\" Journal of Applied Econometrics 37, no. 5 (2022): 896-919. doi: 10.1002/jae.2907',\n",
              " 'Turrell, A., Speigner, B., Copple, D., Djumalieva, J. and Thurgood, J., 2021. Is the UK’s productivity puzzle mostly driven by occupational mismatch? An analysis using big data on job vacancies. Labour Economics, 71, p.102013. doi: 10.1016/j.labeco.2021.102013']"
            ]
          }
        }
      ],
      "source": [
        "projects = soup.find_all(\"div\", class_=\"project-content listing-pub-info\")\n",
        "projects = [x.text.strip() for x in projects]\n",
        "projects[:4]"
      ],
      "id": "cell-6"
    },
    {
      "cell_type": "code",
      "execution_count": 8,
      "metadata": {},
      "outputs": [
        {
          "output_type": "display_data",
          "metadata": {},
          "data": {
            "text/html": [
              "\n",
              "</div>"
            ]
          }
        }
      ],
      "source": [
        "df_list = pd.read_html(\n",
        "    \"https://simple.wikipedia.org/wiki/FIFA_World_Cup\", match=\"Sweden\"\n",
        ")\n",
        "# Retrieve first and only entry from list of dataframes\n",
        "df = df_list[0]\n",
        "df.head()"
      ],
      "id": "cell-7"
    }
  ],
  "nbformat": 4,
  "nbformat_minor": 5,
  "metadata": {
    "kernelspec": {
      "name": "python3",
      "display_name": "base",
      "language": "python"
    },
    "language_info": {
      "name": "python",
      "codemirror_mode": {
        "name": "ipython",
        "version": "3"
      },
      "file_extension": ".py",
      "mimetype": "text/x-python",
      "nbconvert_exporter": "python",
      "pygments_lexer": "ipython3",
      "version": "3.12.4"
    }
  }
}